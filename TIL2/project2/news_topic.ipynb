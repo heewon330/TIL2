{
 "cells": [
  {
   "cell_type": "code",
   "execution_count": 1,
   "id": "cdaf6541",
   "metadata": {},
   "outputs": [
    {
     "name": "stderr",
     "output_type": "stream",
     "text": [
      "2022-02-22 15:38:58.464222: I tensorflow/stream_executor/platform/default/dso_loader.cc:49] Successfully opened dynamic library libcudart.so.11.0\n"
     ]
    }
   ],
   "source": [
    "import tensorflow as tf"
   ]
  },
  {
   "cell_type": "code",
   "execution_count": 2,
   "id": "0e60d6b7",
   "metadata": {},
   "outputs": [
    {
     "name": "stderr",
     "output_type": "stream",
     "text": [
      "2022-02-22 15:39:04.320082: I tensorflow/compiler/jit/xla_cpu_device.cc:41] Not creating XLA devices, tf_xla_enable_xla_devices not set\n",
      "2022-02-22 15:39:04.323021: I tensorflow/stream_executor/platform/default/dso_loader.cc:49] Successfully opened dynamic library libcuda.so.1\n",
      "2022-02-22 15:39:04.350677: I tensorflow/stream_executor/cuda/cuda_gpu_executor.cc:941] successful NUMA node read from SysFS had negative value (-1), but there must be at least one NUMA node, so returning NUMA node zero\n",
      "2022-02-22 15:39:04.351263: I tensorflow/core/common_runtime/gpu/gpu_device.cc:1720] Found device 0 with properties: \n",
      "pciBusID: 0000:00:1e.0 name: Tesla T4 computeCapability: 7.5\n",
      "coreClock: 1.59GHz coreCount: 40 deviceMemorySize: 14.75GiB deviceMemoryBandwidth: 298.08GiB/s\n",
      "2022-02-22 15:39:04.351287: I tensorflow/stream_executor/platform/default/dso_loader.cc:49] Successfully opened dynamic library libcudart.so.11.0\n",
      "2022-02-22 15:39:04.354236: I tensorflow/stream_executor/platform/default/dso_loader.cc:49] Successfully opened dynamic library libcublas.so.11\n",
      "2022-02-22 15:39:04.354292: I tensorflow/stream_executor/platform/default/dso_loader.cc:49] Successfully opened dynamic library libcublasLt.so.11\n",
      "2022-02-22 15:39:04.356062: I tensorflow/stream_executor/platform/default/dso_loader.cc:49] Successfully opened dynamic library libcufft.so.10\n",
      "2022-02-22 15:39:04.356421: I tensorflow/stream_executor/platform/default/dso_loader.cc:49] Successfully opened dynamic library libcurand.so.10\n",
      "2022-02-22 15:39:04.358407: I tensorflow/stream_executor/platform/default/dso_loader.cc:49] Successfully opened dynamic library libcusolver.so.10\n",
      "2022-02-22 15:39:04.359148: I tensorflow/stream_executor/platform/default/dso_loader.cc:49] Successfully opened dynamic library libcusparse.so.11\n",
      "2022-02-22 15:39:04.359335: I tensorflow/stream_executor/platform/default/dso_loader.cc:49] Successfully opened dynamic library libcudnn.so.8\n",
      "2022-02-22 15:39:04.359452: I tensorflow/stream_executor/cuda/cuda_gpu_executor.cc:941] successful NUMA node read from SysFS had negative value (-1), but there must be at least one NUMA node, so returning NUMA node zero\n",
      "2022-02-22 15:39:04.360067: I tensorflow/stream_executor/cuda/cuda_gpu_executor.cc:941] successful NUMA node read from SysFS had negative value (-1), but there must be at least one NUMA node, so returning NUMA node zero\n",
      "2022-02-22 15:39:04.361778: I tensorflow/core/common_runtime/gpu/gpu_device.cc:1862] Adding visible gpu devices: 0\n"
     ]
    }
   ],
   "source": [
    "gpus = tf.config.experimental.list_physical_devices('GPU')\n",
    "if gpus:\n",
    "  try:\n",
    "    tf.config.experimental.set_memory_growth(gpus[0], True)\n",
    "  except RuntimeError as e:\n",
    "    print(e)"
   ]
  },
  {
   "cell_type": "code",
   "execution_count": 9,
   "id": "df0162b2",
   "metadata": {},
   "outputs": [],
   "source": [
    "import warnings\n",
    "warnings.filterwarnings('always')\n",
    "warnings.filterwarnings('ignore')\n",
    "\n",
    "import os, shutil\n",
    "\n",
    "import numpy as np\n",
    "import pandas as pd\n",
    "\n",
    "import matplotlib.pyplot as plt\n",
    "import seaborn as sns\n",
    "\n",
    "from sklearn import datasets"
   ]
  },
  {
   "cell_type": "code",
   "execution_count": 10,
   "id": "b3d35468",
   "metadata": {},
   "outputs": [
    {
     "name": "stdout",
     "output_type": "stream",
     "text": [
      "Collecting konlpy\n",
      "  Downloading konlpy-0.6.0-py2.py3-none-any.whl (19.4 MB)\n",
      "\u001b[2K     \u001b[90m━━━━━━━━━━━━━━━━━━━━━━━━━━━━━━━━━━━━━━━━\u001b[0m \u001b[32m19.4/19.4 MB\u001b[0m \u001b[31m81.7 MB/s\u001b[0m eta \u001b[36m0:00:00\u001b[0m00:01\u001b[0m00:01\u001b[0m\n",
      "\u001b[?25hCollecting lxml>=4.1.0\n",
      "  Downloading lxml-4.8.0-cp37-cp37m-manylinux_2_17_x86_64.manylinux2014_x86_64.manylinux_2_24_x86_64.whl (6.4 MB)\n",
      "\u001b[2K     \u001b[90m━━━━━━━━━━━━━━━━━━━━━━━━━━━━━━━━━━━━━━━━\u001b[0m \u001b[32m6.4/6.4 MB\u001b[0m \u001b[31m106.0 MB/s\u001b[0m eta \u001b[36m0:00:00\u001b[0ma \u001b[36m0:00:01\u001b[0m\n",
      "\u001b[?25hRequirement already satisfied: numpy>=1.6 in /home/ubuntu/anaconda3/envs/tensorflow_lab12/lib/python3.7/site-packages (from konlpy) (1.19.5)\n",
      "Collecting JPype1>=0.7.0\n",
      "  Downloading JPype1-1.3.0-cp37-cp37m-manylinux_2_5_x86_64.manylinux1_x86_64.whl (448 kB)\n",
      "\u001b[2K     \u001b[90m━━━━━━━━━━━━━━━━━━━━━━━━━━━━━━━━━━━━━━\u001b[0m \u001b[32m449.0/449.0 KB\u001b[0m \u001b[31m60.4 MB/s\u001b[0m eta \u001b[36m0:00:00\u001b[0m\n",
      "\u001b[?25hRequirement already satisfied: typing-extensions in /home/ubuntu/anaconda3/envs/tensorflow_lab12/lib/python3.7/site-packages (from JPype1>=0.7.0->konlpy) (3.7.4.3)\n",
      "Installing collected packages: lxml, JPype1, konlpy\n",
      "Successfully installed JPype1-1.3.0 konlpy-0.6.0 lxml-4.8.0\n"
     ]
    }
   ],
   "source": [
    "# konlpy 설치\n",
    "!pip install konlpy"
   ]
  },
  {
   "cell_type": "code",
   "execution_count": 65,
   "id": "4c5f67e0",
   "metadata": {},
   "outputs": [
    {
     "name": "stderr",
     "output_type": "stream",
     "text": [
      "UsageError: Cell magic `%%shell` not found.\n"
     ]
    }
   ],
   "source": [
    "%%shell\n",
    "apt-get update\n",
    "apt-get install g++ openjdk-8-jdk python-dev python3-dev\n",
    "pip3 install JPype1\n",
    "pip3 install konlpy"
   ]
  },
  {
   "cell_type": "code",
   "execution_count": null,
   "id": "1f929337",
   "metadata": {},
   "outputs": [],
   "source": []
  },
  {
   "cell_type": "code",
   "execution_count": 11,
   "id": "a148c0d0",
   "metadata": {},
   "outputs": [],
   "source": [
    "from tensorflow.keras.preprocessing.text import Tokenizer"
   ]
  },
  {
   "cell_type": "code",
   "execution_count": 48,
   "id": "af0d7521",
   "metadata": {},
   "outputs": [
    {
     "data": {
      "text/html": [
       "<div>\n",
       "<style scoped>\n",
       "    .dataframe tbody tr th:only-of-type {\n",
       "        vertical-align: middle;\n",
       "    }\n",
       "\n",
       "    .dataframe tbody tr th {\n",
       "        vertical-align: top;\n",
       "    }\n",
       "\n",
       "    .dataframe thead th {\n",
       "        text-align: right;\n",
       "    }\n",
       "</style>\n",
       "<table border=\"1\" class=\"dataframe\">\n",
       "  <thead>\n",
       "    <tr style=\"text-align: right;\">\n",
       "      <th></th>\n",
       "      <th>index</th>\n",
       "      <th>title</th>\n",
       "      <th>topic_idx</th>\n",
       "    </tr>\n",
       "  </thead>\n",
       "  <tbody>\n",
       "    <tr>\n",
       "      <th>0</th>\n",
       "      <td>0</td>\n",
       "      <td>인천→핀란드 항공기 결항…휴가철 여행객 분통</td>\n",
       "      <td>4</td>\n",
       "    </tr>\n",
       "    <tr>\n",
       "      <th>1</th>\n",
       "      <td>1</td>\n",
       "      <td>실리콘밸리 넘어서겠다…구글 15조원 들여 美전역 거점화</td>\n",
       "      <td>4</td>\n",
       "    </tr>\n",
       "    <tr>\n",
       "      <th>2</th>\n",
       "      <td>2</td>\n",
       "      <td>이란 외무 긴장완화 해결책은 미국이 경제전쟁 멈추는 것</td>\n",
       "      <td>4</td>\n",
       "    </tr>\n",
       "    <tr>\n",
       "      <th>3</th>\n",
       "      <td>3</td>\n",
       "      <td>NYT 클린턴 측근韓기업 특수관계 조명…공과 사 맞물려종합</td>\n",
       "      <td>4</td>\n",
       "    </tr>\n",
       "    <tr>\n",
       "      <th>4</th>\n",
       "      <td>4</td>\n",
       "      <td>시진핑 트럼프에 중미 무역협상 조속 타결 희망</td>\n",
       "      <td>4</td>\n",
       "    </tr>\n",
       "    <tr>\n",
       "      <th>...</th>\n",
       "      <td>...</td>\n",
       "      <td>...</td>\n",
       "      <td>...</td>\n",
       "    </tr>\n",
       "    <tr>\n",
       "      <th>45649</th>\n",
       "      <td>45649</td>\n",
       "      <td>KB금융 미국 IB 스티펠과 제휴…선진국 시장 공략</td>\n",
       "      <td>1</td>\n",
       "    </tr>\n",
       "    <tr>\n",
       "      <th>45650</th>\n",
       "      <td>45650</td>\n",
       "      <td>1보 서울시교육청 신종코로나 확산에 개학 연기·휴업 검토</td>\n",
       "      <td>2</td>\n",
       "    </tr>\n",
       "    <tr>\n",
       "      <th>45651</th>\n",
       "      <td>45651</td>\n",
       "      <td>게시판 키움증권 2020 키움 영웅전 실전투자대회</td>\n",
       "      <td>1</td>\n",
       "    </tr>\n",
       "    <tr>\n",
       "      <th>45652</th>\n",
       "      <td>45652</td>\n",
       "      <td>답변하는 배기동 국립중앙박물관장</td>\n",
       "      <td>2</td>\n",
       "    </tr>\n",
       "    <tr>\n",
       "      <th>45653</th>\n",
       "      <td>45653</td>\n",
       "      <td>2020 한국인터넷기자상 시상식 내달 1일 개최…특별상 김성후</td>\n",
       "      <td>2</td>\n",
       "    </tr>\n",
       "  </tbody>\n",
       "</table>\n",
       "<p>45654 rows × 3 columns</p>\n",
       "</div>"
      ],
      "text/plain": [
       "       index                               title  topic_idx\n",
       "0          0            인천→핀란드 항공기 결항…휴가철 여행객 분통          4\n",
       "1          1      실리콘밸리 넘어서겠다…구글 15조원 들여 美전역 거점화          4\n",
       "2          2      이란 외무 긴장완화 해결책은 미국이 경제전쟁 멈추는 것          4\n",
       "3          3    NYT 클린턴 측근韓기업 특수관계 조명…공과 사 맞물려종합          4\n",
       "4          4           시진핑 트럼프에 중미 무역협상 조속 타결 희망          4\n",
       "...      ...                                 ...        ...\n",
       "45649  45649        KB금융 미국 IB 스티펠과 제휴…선진국 시장 공략          1\n",
       "45650  45650     1보 서울시교육청 신종코로나 확산에 개학 연기·휴업 검토          2\n",
       "45651  45651         게시판 키움증권 2020 키움 영웅전 실전투자대회          1\n",
       "45652  45652                   답변하는 배기동 국립중앙박물관장          2\n",
       "45653  45653  2020 한국인터넷기자상 시상식 내달 1일 개최…특별상 김성후          2\n",
       "\n",
       "[45654 rows x 3 columns]"
      ]
     },
     "execution_count": 48,
     "metadata": {},
     "output_type": "execute_result"
    }
   ],
   "source": [
    "train=pd.read_csv('/home/lab12/data/train_data.csv')\n",
    "train"
   ]
  },
  {
   "cell_type": "code",
   "execution_count": 55,
   "id": "979963e0",
   "metadata": {},
   "outputs": [
    {
     "data": {
      "text/html": [
       "<div>\n",
       "<style scoped>\n",
       "    .dataframe tbody tr th:only-of-type {\n",
       "        vertical-align: middle;\n",
       "    }\n",
       "\n",
       "    .dataframe tbody tr th {\n",
       "        vertical-align: top;\n",
       "    }\n",
       "\n",
       "    .dataframe thead th {\n",
       "        text-align: right;\n",
       "    }\n",
       "</style>\n",
       "<table border=\"1\" class=\"dataframe\">\n",
       "  <thead>\n",
       "    <tr style=\"text-align: right;\">\n",
       "      <th></th>\n",
       "      <th>index</th>\n",
       "      <th>title</th>\n",
       "    </tr>\n",
       "  </thead>\n",
       "  <tbody>\n",
       "    <tr>\n",
       "      <th>0</th>\n",
       "      <td>45654</td>\n",
       "      <td>유튜브 내달 2일까지 크리에이터 지원 공간 운영</td>\n",
       "    </tr>\n",
       "    <tr>\n",
       "      <th>1</th>\n",
       "      <td>45655</td>\n",
       "      <td>어버이날 맑다가 흐려져…남부지방 옅은 황사</td>\n",
       "    </tr>\n",
       "    <tr>\n",
       "      <th>2</th>\n",
       "      <td>45656</td>\n",
       "      <td>내년부터 국가RD 평가 때 논문건수는 반영 않는다</td>\n",
       "    </tr>\n",
       "    <tr>\n",
       "      <th>3</th>\n",
       "      <td>45657</td>\n",
       "      <td>김명자 신임 과총 회장 원로와 젊은 과학자 지혜 모을 것</td>\n",
       "    </tr>\n",
       "    <tr>\n",
       "      <th>4</th>\n",
       "      <td>45658</td>\n",
       "      <td>회색인간 작가 김동식 양심고백 등 새 소설집 2권 출간</td>\n",
       "    </tr>\n",
       "    <tr>\n",
       "      <th>...</th>\n",
       "      <td>...</td>\n",
       "      <td>...</td>\n",
       "    </tr>\n",
       "    <tr>\n",
       "      <th>9126</th>\n",
       "      <td>54780</td>\n",
       "      <td>인천 오후 3시35분 대설주의보…눈 3.1cm 쌓여</td>\n",
       "    </tr>\n",
       "    <tr>\n",
       "      <th>9127</th>\n",
       "      <td>54781</td>\n",
       "      <td>노래방에서 지인 성추행 외교부 사무관 불구속 입건종합</td>\n",
       "    </tr>\n",
       "    <tr>\n",
       "      <th>9128</th>\n",
       "      <td>54782</td>\n",
       "      <td>40년 전 부마항쟁 부산 시위 사진 2점 최초 공개</td>\n",
       "    </tr>\n",
       "    <tr>\n",
       "      <th>9129</th>\n",
       "      <td>54783</td>\n",
       "      <td>게시판 아리랑TV 아프리카개발은행 총회 개회식 생중계</td>\n",
       "    </tr>\n",
       "    <tr>\n",
       "      <th>9130</th>\n",
       "      <td>54784</td>\n",
       "      <td>유영민 과기장관 강소특구는 지역 혁신의 중심…지원책 강구</td>\n",
       "    </tr>\n",
       "  </tbody>\n",
       "</table>\n",
       "<p>9131 rows × 2 columns</p>\n",
       "</div>"
      ],
      "text/plain": [
       "      index                            title\n",
       "0     45654       유튜브 내달 2일까지 크리에이터 지원 공간 운영\n",
       "1     45655          어버이날 맑다가 흐려져…남부지방 옅은 황사\n",
       "2     45656      내년부터 국가RD 평가 때 논문건수는 반영 않는다\n",
       "3     45657  김명자 신임 과총 회장 원로와 젊은 과학자 지혜 모을 것\n",
       "4     45658   회색인간 작가 김동식 양심고백 등 새 소설집 2권 출간\n",
       "...     ...                              ...\n",
       "9126  54780     인천 오후 3시35분 대설주의보…눈 3.1cm 쌓여\n",
       "9127  54781    노래방에서 지인 성추행 외교부 사무관 불구속 입건종합\n",
       "9128  54782     40년 전 부마항쟁 부산 시위 사진 2점 최초 공개\n",
       "9129  54783    게시판 아리랑TV 아프리카개발은행 총회 개회식 생중계\n",
       "9130  54784  유영민 과기장관 강소특구는 지역 혁신의 중심…지원책 강구\n",
       "\n",
       "[9131 rows x 2 columns]"
      ]
     },
     "execution_count": 55,
     "metadata": {},
     "output_type": "execute_result"
    }
   ],
   "source": [
    "test=pd.read_csv('/home/lab12/data/test_data.csv')\n",
    "test"
   ]
  },
  {
   "cell_type": "code",
   "execution_count": 56,
   "id": "e3b7a791",
   "metadata": {},
   "outputs": [],
   "source": [
    "del test['index']"
   ]
  },
  {
   "cell_type": "code",
   "execution_count": 45,
   "id": "4904d2dc",
   "metadata": {},
   "outputs": [
    {
     "name": "stdout",
     "output_type": "stream",
     "text": [
      "<class 'pandas.core.frame.DataFrame'>\n",
      "RangeIndex: 45654 entries, 0 to 45653\n",
      "Data columns (total 2 columns):\n",
      " #   Column     Non-Null Count  Dtype \n",
      "---  ------     --------------  ----- \n",
      " 0   title      45654 non-null  object\n",
      " 1   topic_idx  45654 non-null  int64 \n",
      "dtypes: int64(1), object(1)\n",
      "memory usage: 713.5+ KB\n"
     ]
    }
   ],
   "source": [
    "train.info()"
   ]
  },
  {
   "cell_type": "code",
   "execution_count": 57,
   "id": "0cda000d",
   "metadata": {},
   "outputs": [
    {
     "data": {
      "text/plain": [
       "[['유튜브 내달 2일까지 크리에이터 지원 공간 운영'], ['어버이날 맑다가 흐려져…남부지방 옅은 황사']]"
      ]
     },
     "execution_count": 57,
     "metadata": {},
     "output_type": "execute_result"
    }
   ],
   "source": [
    "test1=test.values.tolist()\n",
    "test1[:2]"
   ]
  },
  {
   "cell_type": "code",
   "execution_count": 27,
   "id": "8e871c0a",
   "metadata": {},
   "outputs": [],
   "source": [
    "from tensorflow.keras.datasets import imdb"
   ]
  },
  {
   "cell_type": "code",
   "execution_count": 50,
   "id": "4087d600",
   "metadata": {},
   "outputs": [
    {
     "data": {
      "text/plain": [
       "[[0, '인천→핀란드 항공기 결항…휴가철 여행객 분통', 4], [1, '실리콘밸리 넘어서겠다…구글 15조원 들여 美전역 거점화', 4]]"
      ]
     },
     "execution_count": 50,
     "metadata": {},
     "output_type": "execute_result"
    }
   ],
   "source": [
    "train1=train.values.tolist()\n",
    "train1[:2]"
   ]
  },
  {
   "cell_type": "code",
   "execution_count": 49,
   "id": "b81ca255",
   "metadata": {},
   "outputs": [
    {
     "data": {
      "text/plain": [
       "45654"
      ]
     },
     "execution_count": 49,
     "metadata": {},
     "output_type": "execute_result"
    }
   ],
   "source": [
    "len(train1)"
   ]
  },
  {
   "cell_type": "code",
   "execution_count": 51,
   "id": "89246dec",
   "metadata": {},
   "outputs": [],
   "source": [
    "import re"
   ]
  },
  {
   "cell_type": "code",
   "execution_count": 52,
   "id": "29ded6a6",
   "metadata": {},
   "outputs": [],
   "source": [
    "def cleanText( text ):\n",
    "    ret = re.sub(\"[^ㄱ-ㅎㅏ-ㅣ가-힣 ]\", '', text)\n",
    "    return ret"
   ]
  },
  {
   "cell_type": "code",
   "execution_count": 53,
   "id": "2c2a3bfc",
   "metadata": {},
   "outputs": [
    {
     "name": "stdout",
     "output_type": "stream",
     "text": [
      "[11, '이란서 최고지도자 모욕 혐의 미국인에 징역 10년 선고', 4]\n"
     ]
    },
    {
     "data": {
      "text/plain": [
       "'이란서 최고지도자 모욕 혐의 미국인에 징역 년 선고'"
      ]
     },
     "execution_count": 53,
     "metadata": {},
     "output_type": "execute_result"
    }
   ],
   "source": [
    "print( train1[11] )\n",
    "cleanText(train1[11][1])"
   ]
  },
  {
   "cell_type": "code",
   "execution_count": 54,
   "id": "b0e887e5",
   "metadata": {},
   "outputs": [
    {
     "data": {
      "text/plain": [
       "[['인천핀란드 항공기 결항휴가철 여행객 분통', 4], ['실리콘밸리 넘어서겠다구글 조원 들여 전역 거점화', 4]]"
      ]
     },
     "execution_count": 54,
     "metadata": {},
     "output_type": "execute_result"
    }
   ],
   "source": [
    "train_clean = []\n",
    "for line in train1:\n",
    "    train_clean.append( [ cleanText(line[1]), int(line[2])] )\n",
    "train_clean[:2]"
   ]
  },
  {
   "cell_type": "code",
   "execution_count": 59,
   "id": "377054ef",
   "metadata": {},
   "outputs": [
    {
     "name": "stdout",
     "output_type": "stream",
     "text": [
      "/home/lab12/data\n",
      "--2022-02-22 17:15:04--  https://bab2min.tistory.com/attachment/cfile2.uf@241D6F475873C2B1010DEA.txt\n",
      "Resolving bab2min.tistory.com (bab2min.tistory.com)... 211.249.222.33\n",
      "Connecting to bab2min.tistory.com (bab2min.tistory.com)|211.249.222.33|:443... connected.\n",
      "HTTP request sent, awaiting response... 302 Found\n",
      "Location: https://t1.daumcdn.net/cfile/tistory/241D6F475873C2B101?download [following]\n",
      "--2022-02-22 17:15:04--  https://t1.daumcdn.net/cfile/tistory/241D6F475873C2B101?download\n",
      "Resolving t1.daumcdn.net (t1.daumcdn.net)... 23.33.33.201, 23.33.33.177, 2600:140b:400::1721:208b, ...\n",
      "Connecting to t1.daumcdn.net (t1.daumcdn.net)|23.33.33.201|:443... connected.\n",
      "HTTP request sent, awaiting response... 200 OK\n",
      "Length: 2171 (2.1K) [text/plain]\n",
      "Saving to: ‘cfile2.uf@241D6F475873C2B1010DEA.txt’\n",
      "\n",
      "cfile2.uf@241D6F475 100%[===================>]   2.12K  --.-KB/s    in 0s      \n",
      "\n",
      "2022-02-22 17:15:04 (406 MB/s) - ‘cfile2.uf@241D6F475873C2B1010DEA.txt’ saved [2171/2171]\n",
      "\n"
     ]
    }
   ],
   "source": [
    "%cd '/home/lab12/data'\n",
    "!wget https://bab2min.tistory.com/attachment/cfile2.uf@241D6F475873C2B1010DEA.txt\n",
    "!mv cfile2.uf@241D6F475873C2B1010DEA.txt stopwords.txt"
   ]
  },
  {
   "cell_type": "code",
   "execution_count": 60,
   "id": "b578e8c1",
   "metadata": {},
   "outputs": [
    {
     "data": {
      "text/plain": [
       "['이', '있', '하', '것', '들', '그', '되', '수', '이', '보']"
      ]
     },
     "execution_count": 60,
     "metadata": {},
     "output_type": "execute_result"
    }
   ],
   "source": [
    "stopwords = []\n",
    "with open('./stopwords.txt') as f:\n",
    "    stopwords = [ line.split('\\t')[0] for line in f.readlines() ]\n",
    "stopwords[:10]"
   ]
  },
  {
   "cell_type": "code",
   "execution_count": 62,
   "id": "83537a87",
   "metadata": {},
   "outputs": [],
   "source": [
    "# 한글에서 사용할 수 있는 형태소 분석기\n",
    "from konlpy.tag import Kkma, Komoran, Okt, Hannanum, Mecab"
   ]
  },
  {
   "cell_type": "code",
   "execution_count": 66,
   "id": "5a908c6f",
   "metadata": {},
   "outputs": [],
   "source": [
    "kkma = Kkma()\n",
    "komoran = Komoran()\n",
    "han = Hannanum()\n",
    "\n",
    "okt = Okt()"
   ]
  },
  {
   "cell_type": "code",
   "execution_count": 67,
   "id": "291df3d5",
   "metadata": {},
   "outputs": [
    {
     "name": "stdout",
     "output_type": "stream",
     "text": [
      "['인천', '핀란드', '항공기', '결항', '휴가', '철', '여행객', '분통']\n",
      "['인천', '핀란드', '항공기', '결항', '휴가', '철', '여행객', '분통']\n",
      "['인천', '핀란드', '항공기', '결항', '휴가', '철', '여행객', '분통']\n"
     ]
    }
   ],
   "source": [
    "print( okt.morphs( train_clean[0][0] ) )\n",
    "print( okt.morphs( train_clean[0][0], stem=True ) )\n",
    "print( okt.morphs( train_clean[0][0], stem=True, norm=True ) )"
   ]
  },
  {
   "cell_type": "code",
   "execution_count": 68,
   "id": "342fcd4d",
   "metadata": {},
   "outputs": [],
   "source": [
    "train_token = []\n",
    "for line in train_clean:\n",
    "    pre = [word for word in okt.morphs( line[0], stem=True, norm=True ) if word not in stopwords and len(word) > 1]\n",
    "    train_token.append( [pre, line[1]] )"
   ]
  },
  {
   "cell_type": "code",
   "execution_count": 70,
   "id": "d91b7cf9",
   "metadata": {},
   "outputs": [
    {
     "data": {
      "text/plain": [
       "[[['인천', '핀란드', '항공기', '결항', '휴가', '여행객', '분통'], 4],\n",
       " [['실리콘밸리', '넘어서다', '구글', '조원', '들이다', '전역', '거점'], 4]]"
      ]
     },
     "execution_count": 70,
     "metadata": {},
     "output_type": "execute_result"
    }
   ],
   "source": [
    "train_token[:2]"
   ]
  },
  {
   "cell_type": "code",
   "execution_count": 71,
   "id": "3b0ae9b5",
   "metadata": {},
   "outputs": [],
   "source": [
    "import pickle"
   ]
  },
  {
   "cell_type": "code",
   "execution_count": 72,
   "id": "72ff925a",
   "metadata": {},
   "outputs": [
    {
     "name": "stdout",
     "output_type": "stream",
     "text": [
      "/home/lab12/data\r\n"
     ]
    }
   ],
   "source": [
    "!pwd"
   ]
  },
  {
   "cell_type": "code",
   "execution_count": 73,
   "id": "d88933fd",
   "metadata": {},
   "outputs": [],
   "source": [
    "with open('./nsmc_train_preprocess.pk', 'wb') as f:\n",
    "    pickle.dump(train_token, f)"
   ]
  },
  {
   "cell_type": "code",
   "execution_count": null,
   "id": "5cfdd859",
   "metadata": {},
   "outputs": [],
   "source": []
  }
 ],
 "metadata": {
  "kernelspec": {
   "display_name": "Python 3 (ipykernel)",
   "language": "python",
   "name": "python3"
  },
  "language_info": {
   "codemirror_mode": {
    "name": "ipython",
    "version": 3
   },
   "file_extension": ".py",
   "mimetype": "text/x-python",
   "name": "python",
   "nbconvert_exporter": "python",
   "pygments_lexer": "ipython3",
   "version": "3.7.11"
  }
 },
 "nbformat": 4,
 "nbformat_minor": 5
}
