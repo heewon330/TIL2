{
 "cells": [
  {
   "cell_type": "code",
   "execution_count": 1,
   "id": "45e7610e",
   "metadata": {},
   "outputs": [
    {
     "name": "stderr",
     "output_type": "stream",
     "text": [
      "2022-02-14 10:23:08.385140: I tensorflow/stream_executor/platform/default/dso_loader.cc:49] Successfully opened dynamic library libcudart.so.11.0\n"
     ]
    }
   ],
   "source": [
    "import tensorflow as tf"
   ]
  },
  {
   "cell_type": "code",
   "execution_count": 2,
   "id": "98887c48",
   "metadata": {},
   "outputs": [
    {
     "name": "stderr",
     "output_type": "stream",
     "text": [
      "2022-02-14 10:23:09.650074: I tensorflow/compiler/jit/xla_cpu_device.cc:41] Not creating XLA devices, tf_xla_enable_xla_devices not set\n",
      "2022-02-14 10:23:09.651044: I tensorflow/stream_executor/platform/default/dso_loader.cc:49] Successfully opened dynamic library libcuda.so.1\n",
      "2022-02-14 10:23:09.673247: I tensorflow/stream_executor/cuda/cuda_gpu_executor.cc:941] successful NUMA node read from SysFS had negative value (-1), but there must be at least one NUMA node, so returning NUMA node zero\n",
      "2022-02-14 10:23:09.673775: I tensorflow/core/common_runtime/gpu/gpu_device.cc:1720] Found device 0 with properties: \n",
      "pciBusID: 0000:00:1e.0 name: Tesla T4 computeCapability: 7.5\n",
      "coreClock: 1.59GHz coreCount: 40 deviceMemorySize: 14.75GiB deviceMemoryBandwidth: 298.08GiB/s\n",
      "2022-02-14 10:23:09.673795: I tensorflow/stream_executor/platform/default/dso_loader.cc:49] Successfully opened dynamic library libcudart.so.11.0\n",
      "2022-02-14 10:23:09.676521: I tensorflow/stream_executor/platform/default/dso_loader.cc:49] Successfully opened dynamic library libcublas.so.11\n",
      "2022-02-14 10:23:09.676586: I tensorflow/stream_executor/platform/default/dso_loader.cc:49] Successfully opened dynamic library libcublasLt.so.11\n",
      "2022-02-14 10:23:09.677745: I tensorflow/stream_executor/platform/default/dso_loader.cc:49] Successfully opened dynamic library libcufft.so.10\n",
      "2022-02-14 10:23:09.677999: I tensorflow/stream_executor/platform/default/dso_loader.cc:49] Successfully opened dynamic library libcurand.so.10\n",
      "2022-02-14 10:23:09.681000: I tensorflow/stream_executor/platform/default/dso_loader.cc:49] Successfully opened dynamic library libcusolver.so.10\n",
      "2022-02-14 10:23:09.681662: I tensorflow/stream_executor/platform/default/dso_loader.cc:49] Successfully opened dynamic library libcusparse.so.11\n",
      "2022-02-14 10:23:09.681774: I tensorflow/stream_executor/platform/default/dso_loader.cc:49] Successfully opened dynamic library libcudnn.so.8\n",
      "2022-02-14 10:23:09.681862: I tensorflow/stream_executor/cuda/cuda_gpu_executor.cc:941] successful NUMA node read from SysFS had negative value (-1), but there must be at least one NUMA node, so returning NUMA node zero\n",
      "2022-02-14 10:23:09.682424: I tensorflow/stream_executor/cuda/cuda_gpu_executor.cc:941] successful NUMA node read from SysFS had negative value (-1), but there must be at least one NUMA node, so returning NUMA node zero\n",
      "2022-02-14 10:23:09.682906: I tensorflow/core/common_runtime/gpu/gpu_device.cc:1862] Adding visible gpu devices: 0\n"
     ]
    }
   ],
   "source": [
    "gpus = tf.config.experimental.list_physical_devices('GPU')\n",
    "if gpus:\n",
    "  try:\n",
    "    tf.config.experimental.set_memory_growth(gpus[0], True)\n",
    "  except RuntimeError as e:\n",
    "    # 프로그램 시작시에 메모리 증가가 설정되어야만 합니다\n",
    "    print(e)"
   ]
  },
  {
   "cell_type": "code",
   "execution_count": 3,
   "id": "454a8204",
   "metadata": {},
   "outputs": [],
   "source": [
    "import warnings\n",
    "warnings.filterwarnings('always')\n",
    "warnings.filterwarnings('ignore')\n",
    "\n",
    "import os, shutil\n",
    "\n",
    "import numpy as np\n",
    "import pandas as pd\n",
    "\n",
    "import matplotlib.pyplot as plt\n",
    "import seaborn as sns\n",
    "\n",
    "from sklearn import datasets\n",
    "from tensorflow.keras.preprocessing.text import Tokenizer"
   ]
  },
  {
   "cell_type": "markdown",
   "id": "7f7e5ccc",
   "metadata": {},
   "source": [
    "# RNN\n",
    "- 순환신경망\n",
    "- 시계열 데이터에 적합"
   ]
  },
  {
   "cell_type": "markdown",
   "id": "4bcf0eb6",
   "metadata": {},
   "source": [
    "## IMDB에 RNN 사용하기\n",
    "- 정수인덱싱 바로 받아오기"
   ]
  },
  {
   "cell_type": "code",
   "execution_count": 4,
   "id": "75dcbc21",
   "metadata": {},
   "outputs": [],
   "source": [
    "from tensorflow.keras.datasets import imdb"
   ]
  },
  {
   "cell_type": "code",
   "execution_count": 5,
   "id": "32502714",
   "metadata": {},
   "outputs": [],
   "source": [
    "max_features = 10000\n",
    "maxlen = 500\n",
    "batch_size = 32\n",
    "\n",
    "(x_train, y_train), (x_test, y_test) = imdb.load_data(num_words = max_features)"
   ]
  },
  {
   "cell_type": "code",
   "execution_count": 6,
   "id": "9c59a4dd",
   "metadata": {},
   "outputs": [
    {
     "data": {
      "text/plain": [
       "array([list([1, 14, 22, 16, 43, 530, 973, 1622, 1385, 65, 458, 4468, 66, 3941, 4, 173, 36, 256, 5, 25, 100, 43, 838, 112, 50, 670, 2, 9, 35, 480, 284, 5, 150, 4, 172, 112, 167, 2, 336, 385, 39, 4, 172, 4536, 1111, 17, 546, 38, 13, 447, 4, 192, 50, 16, 6, 147, 2025, 19, 14, 22, 4, 1920, 4613, 469, 4, 22, 71, 87, 12, 16, 43, 530, 38, 76, 15, 13, 1247, 4, 22, 17, 515, 17, 12, 16, 626, 18, 2, 5, 62, 386, 12, 8, 316, 8, 106, 5, 4, 2223, 5244, 16, 480, 66, 3785, 33, 4, 130, 12, 16, 38, 619, 5, 25, 124, 51, 36, 135, 48, 25, 1415, 33, 6, 22, 12, 215, 28, 77, 52, 5, 14, 407, 16, 82, 2, 8, 4, 107, 117, 5952, 15, 256, 4, 2, 7, 3766, 5, 723, 36, 71, 43, 530, 476, 26, 400, 317, 46, 7, 4, 2, 1029, 13, 104, 88, 4, 381, 15, 297, 98, 32, 2071, 56, 26, 141, 6, 194, 7486, 18, 4, 226, 22, 21, 134, 476, 26, 480, 5, 144, 30, 5535, 18, 51, 36, 28, 224, 92, 25, 104, 4, 226, 65, 16, 38, 1334, 88, 12, 16, 283, 5, 16, 4472, 113, 103, 32, 15, 16, 5345, 19, 178, 32]),\n",
       "       list([1, 194, 1153, 194, 8255, 78, 228, 5, 6, 1463, 4369, 5012, 134, 26, 4, 715, 8, 118, 1634, 14, 394, 20, 13, 119, 954, 189, 102, 5, 207, 110, 3103, 21, 14, 69, 188, 8, 30, 23, 7, 4, 249, 126, 93, 4, 114, 9, 2300, 1523, 5, 647, 4, 116, 9, 35, 8163, 4, 229, 9, 340, 1322, 4, 118, 9, 4, 130, 4901, 19, 4, 1002, 5, 89, 29, 952, 46, 37, 4, 455, 9, 45, 43, 38, 1543, 1905, 398, 4, 1649, 26, 6853, 5, 163, 11, 3215, 2, 4, 1153, 9, 194, 775, 7, 8255, 2, 349, 2637, 148, 605, 2, 8003, 15, 123, 125, 68, 2, 6853, 15, 349, 165, 4362, 98, 5, 4, 228, 9, 43, 2, 1157, 15, 299, 120, 5, 120, 174, 11, 220, 175, 136, 50, 9, 4373, 228, 8255, 5, 2, 656, 245, 2350, 5, 4, 9837, 131, 152, 491, 18, 2, 32, 7464, 1212, 14, 9, 6, 371, 78, 22, 625, 64, 1382, 9, 8, 168, 145, 23, 4, 1690, 15, 16, 4, 1355, 5, 28, 6, 52, 154, 462, 33, 89, 78, 285, 16, 145, 95])],\n",
       "      dtype=object)"
      ]
     },
     "execution_count": 6,
     "metadata": {},
     "output_type": "execute_result"
    }
   ],
   "source": [
    "x_train[:2]"
   ]
  },
  {
   "cell_type": "code",
   "execution_count": 6,
   "id": "81f03ae7",
   "metadata": {},
   "outputs": [],
   "source": [
    "x_train = tf.keras.preprocessing.sequence.pad_sequences( x_train, maxlen = maxlen )\n",
    "x_test = tf.keras.preprocessing.sequence.pad_sequences( x_test, maxlen = maxlen )"
   ]
  },
  {
   "cell_type": "markdown",
   "id": "d406ce07",
   "metadata": {},
   "source": [
    "## 네트워크 구성"
   ]
  },
  {
   "cell_type": "code",
   "execution_count": 8,
   "id": "972562de",
   "metadata": {
    "scrolled": true
   },
   "outputs": [
    {
     "name": "stderr",
     "output_type": "stream",
     "text": [
      "2022-02-14 09:22:33.164826: I tensorflow/core/platform/cpu_feature_guard.cc:142] This TensorFlow binary is optimized with oneAPI Deep Neural Network Library (oneDNN) to use the following CPU instructions in performance-critical operations:  AVX2 AVX512F FMA\n",
      "To enable them in other operations, rebuild TensorFlow with the appropriate compiler flags.\n",
      "2022-02-14 09:22:33.165029: I tensorflow/compiler/jit/xla_gpu_device.cc:99] Not creating XLA devices, tf_xla_enable_xla_devices not set\n",
      "2022-02-14 09:22:33.165210: I tensorflow/stream_executor/cuda/cuda_gpu_executor.cc:941] successful NUMA node read from SysFS had negative value (-1), but there must be at least one NUMA node, so returning NUMA node zero\n",
      "2022-02-14 09:22:33.165802: I tensorflow/core/common_runtime/gpu/gpu_device.cc:1720] Found device 0 with properties: \n",
      "pciBusID: 0000:00:1e.0 name: Tesla T4 computeCapability: 7.5\n",
      "coreClock: 1.59GHz coreCount: 40 deviceMemorySize: 14.75GiB deviceMemoryBandwidth: 298.08GiB/s\n",
      "2022-02-14 09:22:33.165841: I tensorflow/stream_executor/platform/default/dso_loader.cc:49] Successfully opened dynamic library libcudart.so.11.0\n",
      "2022-02-14 09:22:33.165880: I tensorflow/stream_executor/platform/default/dso_loader.cc:49] Successfully opened dynamic library libcublas.so.11\n",
      "2022-02-14 09:22:33.165891: I tensorflow/stream_executor/platform/default/dso_loader.cc:49] Successfully opened dynamic library libcublasLt.so.11\n",
      "2022-02-14 09:22:33.165903: I tensorflow/stream_executor/platform/default/dso_loader.cc:49] Successfully opened dynamic library libcufft.so.10\n",
      "2022-02-14 09:22:33.165914: I tensorflow/stream_executor/platform/default/dso_loader.cc:49] Successfully opened dynamic library libcurand.so.10\n",
      "2022-02-14 09:22:33.165925: I tensorflow/stream_executor/platform/default/dso_loader.cc:49] Successfully opened dynamic library libcusolver.so.10\n",
      "2022-02-14 09:22:33.165936: I tensorflow/stream_executor/platform/default/dso_loader.cc:49] Successfully opened dynamic library libcusparse.so.11\n",
      "2022-02-14 09:22:33.165948: I tensorflow/stream_executor/platform/default/dso_loader.cc:49] Successfully opened dynamic library libcudnn.so.8\n",
      "2022-02-14 09:22:33.166023: I tensorflow/stream_executor/cuda/cuda_gpu_executor.cc:941] successful NUMA node read from SysFS had negative value (-1), but there must be at least one NUMA node, so returning NUMA node zero\n",
      "2022-02-14 09:22:33.166558: I tensorflow/stream_executor/cuda/cuda_gpu_executor.cc:941] successful NUMA node read from SysFS had negative value (-1), but there must be at least one NUMA node, so returning NUMA node zero\n",
      "2022-02-14 09:22:33.167050: I tensorflow/core/common_runtime/gpu/gpu_device.cc:1862] Adding visible gpu devices: 0\n",
      "2022-02-14 09:22:33.167079: I tensorflow/stream_executor/platform/default/dso_loader.cc:49] Successfully opened dynamic library libcudart.so.11.0\n",
      "2022-02-14 09:22:33.681571: I tensorflow/core/common_runtime/gpu/gpu_device.cc:1261] Device interconnect StreamExecutor with strength 1 edge matrix:\n",
      "2022-02-14 09:22:33.681601: I tensorflow/core/common_runtime/gpu/gpu_device.cc:1267]      0 \n",
      "2022-02-14 09:22:33.681609: I tensorflow/core/common_runtime/gpu/gpu_device.cc:1280] 0:   N \n",
      "2022-02-14 09:22:33.681809: I tensorflow/stream_executor/cuda/cuda_gpu_executor.cc:941] successful NUMA node read from SysFS had negative value (-1), but there must be at least one NUMA node, so returning NUMA node zero\n",
      "2022-02-14 09:22:33.682388: I tensorflow/stream_executor/cuda/cuda_gpu_executor.cc:941] successful NUMA node read from SysFS had negative value (-1), but there must be at least one NUMA node, so returning NUMA node zero\n",
      "2022-02-14 09:22:33.682918: I tensorflow/stream_executor/cuda/cuda_gpu_executor.cc:941] successful NUMA node read from SysFS had negative value (-1), but there must be at least one NUMA node, so returning NUMA node zero\n",
      "2022-02-14 09:22:33.683430: I tensorflow/core/common_runtime/gpu/gpu_device.cc:1406] Created TensorFlow device (/job:localhost/replica:0/task:0/device:GPU:0 with 13525 MB memory) -> physical GPU (device: 0, name: Tesla T4, pci bus id: 0000:00:1e.0, compute capability: 7.5)\n"
     ]
    }
   ],
   "source": [
    "model = tf.keras.models.Sequential()\n",
    "model.add( tf.keras.layers.Embedding( max_features, 32 ))\n",
    "model.add( tf.keras.layers.SimpleRNN(32) )\n",
    "model.add( tf.keras.layers.Dense(1, activation='sigmoid'))\n",
    "\n",
    "model.compile(\n",
    "  loss='binary_crossentropy',\n",
    "  metrics = ['acc'],\n",
    "  optimizer = 'rmsprop'\n",
    ")"
   ]
  },
  {
   "cell_type": "code",
   "execution_count": 9,
   "id": "d3796941",
   "metadata": {
    "scrolled": true
   },
   "outputs": [
    {
     "name": "stderr",
     "output_type": "stream",
     "text": [
      "2022-02-14 09:22:45.004793: I tensorflow/compiler/mlir/mlir_graph_optimization_pass.cc:116] None of the MLIR optimization passes are enabled (registered 2)\n",
      "2022-02-14 09:22:45.023606: I tensorflow/core/platform/profile_utils/cpu_utils.cc:112] CPU Frequency: 2499995000 Hz\n"
     ]
    },
    {
     "name": "stdout",
     "output_type": "stream",
     "text": [
      "Epoch 1/10\n"
     ]
    },
    {
     "name": "stderr",
     "output_type": "stream",
     "text": [
      "2022-02-14 09:22:45.848346: I tensorflow/stream_executor/platform/default/dso_loader.cc:49] Successfully opened dynamic library libcublas.so.11\n",
      "2022-02-14 09:22:46.371734: I tensorflow/stream_executor/platform/default/dso_loader.cc:49] Successfully opened dynamic library libcublasLt.so.11\n"
     ]
    },
    {
     "name": "stdout",
     "output_type": "stream",
     "text": [
      "157/157 [==============================] - 40s 247ms/step - loss: 0.6282 - acc: 0.6284 - val_loss: 0.4119 - val_acc: 0.8318\n",
      "Epoch 2/10\n",
      "157/157 [==============================] - 39s 246ms/step - loss: 0.3414 - acc: 0.8651 - val_loss: 0.3225 - val_acc: 0.8688\n",
      "Epoch 3/10\n",
      "157/157 [==============================] - 39s 245ms/step - loss: 0.2683 - acc: 0.8990 - val_loss: 0.4060 - val_acc: 0.8082\n",
      "Epoch 4/10\n",
      "157/157 [==============================] - 38s 245ms/step - loss: 0.2244 - acc: 0.9158 - val_loss: 0.3343 - val_acc: 0.8720\n",
      "Epoch 5/10\n",
      "157/157 [==============================] - 39s 246ms/step - loss: 0.1652 - acc: 0.9404 - val_loss: 0.3633 - val_acc: 0.8544\n",
      "Epoch 6/10\n",
      "157/157 [==============================] - 38s 244ms/step - loss: 0.1183 - acc: 0.9598 - val_loss: 0.3934 - val_acc: 0.8666\n",
      "Epoch 7/10\n",
      "157/157 [==============================] - 39s 246ms/step - loss: 0.0944 - acc: 0.9672 - val_loss: 0.5232 - val_acc: 0.8510\n",
      "Epoch 8/10\n",
      "157/157 [==============================] - 39s 246ms/step - loss: 0.0597 - acc: 0.9810 - val_loss: 0.4280 - val_acc: 0.8604\n",
      "Epoch 9/10\n",
      "157/157 [==============================] - 39s 246ms/step - loss: 0.0431 - acc: 0.9881 - val_loss: 0.5063 - val_acc: 0.8354\n",
      "Epoch 10/10\n",
      "157/157 [==============================] - 38s 245ms/step - loss: 0.0318 - acc: 0.9905 - val_loss: 0.5756 - val_acc: 0.8564\n"
     ]
    }
   ],
   "source": [
    "hist = model.fit( x_train, y_train, epochs=10, batch_size=128, validation_split=0.2)"
   ]
  },
  {
   "cell_type": "markdown",
   "id": "55231ab0",
   "metadata": {},
   "source": [
    "RNN은 CNN에 비해 속도가 느림"
   ]
  },
  {
   "cell_type": "code",
   "execution_count": 10,
   "id": "5478c6ed",
   "metadata": {},
   "outputs": [
    {
     "data": {
      "text/plain": [
       "[<matplotlib.lines.Line2D at 0x7fce6ba03cd0>]"
      ]
     },
     "execution_count": 10,
     "metadata": {},
     "output_type": "execute_result"
    },
    {
     "data": {
      "image/png": "[encoded data removed]",
      "text/plain": [
       "<Figure size 432x288 with 1 Axes>"
      ]
     },
     "metadata": {
      "needs_background": "light"
     },
     "output_type": "display_data"
    }
   ],
   "source": [
    "plt.plot( hist.history['loss'], label='train loss')\n",
    "plt.plot( hist.history['val_loss'], label='validation loss')"
   ]
  },
  {
   "cell_type": "code",
   "execution_count": 11,
   "id": "9d891693",
   "metadata": {},
   "outputs": [
    {
     "data": {
      "text/plain": [
       "[<matplotlib.lines.Line2D at 0x7fce64f24dd0>]"
      ]
     },
     "execution_count": 11,
     "metadata": {},
     "output_type": "execute_result"
    },
    {
     "data": {
      "image/png": "[encoded data removed]",
      "text/plain": [
       "<Figure size 432x288 with 1 Axes>"
      ]
     },
     "metadata": {
      "needs_background": "light"
     },
     "output_type": "display_data"
    }
   ],
   "source": [
    "plt.plot( hist.history['acc'], label='train accuracy')\n",
    "plt.plot( hist.history['val_acc'], label='validation accuracy')"
   ]
  },
  {
   "cell_type": "raw",
   "id": "4ccab603",
   "metadata": {},
   "source": [
    "과적합 되는 상황"
   ]
  },
  {
   "cell_type": "markdown",
   "id": "5afcce35",
   "metadata": {},
   "source": [
    "# LSTM and GRU"
   ]
  },
  {
   "cell_type": "markdown",
   "id": "090cae31",
   "metadata": {},
   "source": [
    "**RNN**\n",
    "- tanh을 반복해서 진행\n",
    "- 이전에 학습했던 내용을 다음에도 반영할 수 있게끔 설정\n",
    "- 자연어 처리 시 그냥 RNN을 사용하진 않고 LSTM, GRU를 사용함"
   ]
  },
  {
   "cell_type": "markdown",
   "id": "2b6b4855",
   "metadata": {},
   "source": [
    "## LSTM\n",
    "- RNN의 단점(직전 데이터 말고 완전 예전의 데이터를 반영할 수 없음)을 개선한 모형\n",
    "- 게이트를 설정 -> 전달받은 내용을 선택적으로 전달\n",
    "- 일반적으로 많이 쓰임"
   ]
  },
  {
   "cell_type": "code",
   "execution_count": 7,
   "id": "9818e1a8",
   "metadata": {},
   "outputs": [],
   "source": [
    "model = tf.keras.models.Sequential()\n",
    "model.add( tf.keras.layers.Embedding( max_features, 32 ))\n",
    "model.add( tf.keras.layers.LSTM(32) )\n",
    "model.add( tf.keras.layers.Dense(1, activation='sigmoid'))\n",
    "\n",
    "model.compile(\n",
    "  loss='binary_crossentropy',\n",
    "  metrics = ['acc'],\n",
    "  optimizer = 'rmsprop'\n",
    ")"
   ]
  },
  {
   "cell_type": "code",
   "execution_count": 10,
   "id": "b5dd33cd",
   "metadata": {
    "scrolled": true
   },
   "outputs": [
    {
     "name": "stderr",
     "output_type": "stream",
     "text": [
      "2022-02-14 10:03:07.558027: I tensorflow/compiler/mlir/mlir_graph_optimization_pass.cc:116] None of the MLIR optimization passes are enabled (registered 2)\n",
      "2022-02-14 10:03:07.575629: I tensorflow/core/platform/profile_utils/cpu_utils.cc:112] CPU Frequency: 2499995000 Hz\n"
     ]
    },
    {
     "name": "stdout",
     "output_type": "stream",
     "text": [
      "Epoch 1/10\n"
     ]
    },
    {
     "name": "stderr",
     "output_type": "stream",
     "text": [
      "2022-02-14 10:03:09.114707: I tensorflow/stream_executor/platform/default/dso_loader.cc:49] Successfully opened dynamic library libcublas.so.11\n",
      "2022-02-14 10:03:09.727499: I tensorflow/stream_executor/platform/default/dso_loader.cc:49] Successfully opened dynamic library libcublasLt.so.11\n",
      "2022-02-14 10:03:09.775951: I tensorflow/stream_executor/platform/default/dso_loader.cc:49] Successfully opened dynamic library libcudnn.so.8\n"
     ]
    },
    {
     "name": "stdout",
     "output_type": "stream",
     "text": [
      "157/157 [==============================] - 12s 44ms/step - loss: 0.6095 - acc: 0.6498 - val_loss: 0.3710 - val_acc: 0.8492\n",
      "Epoch 2/10\n",
      "157/157 [==============================] - 6s 41ms/step - loss: 0.3050 - acc: 0.8833 - val_loss: 0.7845 - val_acc: 0.7464\n",
      "Epoch 3/10\n",
      "157/157 [==============================] - 5s 29ms/step - loss: 0.2548 - acc: 0.9094 - val_loss: 0.3047 - val_acc: 0.8720\n",
      "Epoch 4/10\n",
      "157/157 [==============================] - 4s 24ms/step - loss: 0.1893 - acc: 0.9328 - val_loss: 0.3104 - val_acc: 0.8656\n",
      "Epoch 5/10\n",
      "157/157 [==============================] - 4s 24ms/step - loss: 0.1751 - acc: 0.9381 - val_loss: 0.2840 - val_acc: 0.8928\n",
      "Epoch 6/10\n",
      "157/157 [==============================] - 4s 24ms/step - loss: 0.1508 - acc: 0.9472 - val_loss: 0.4106 - val_acc: 0.8816\n",
      "Epoch 7/10\n",
      "157/157 [==============================] - 4s 24ms/step - loss: 0.1413 - acc: 0.9513 - val_loss: 0.2992 - val_acc: 0.8858\n",
      "Epoch 8/10\n",
      "157/157 [==============================] - 4s 24ms/step - loss: 0.1180 - acc: 0.9605 - val_loss: 0.3863 - val_acc: 0.8686\n",
      "Epoch 9/10\n",
      "157/157 [==============================] - 4s 24ms/step - loss: 0.1058 - acc: 0.9630 - val_loss: 0.3789 - val_acc: 0.8706\n",
      "Epoch 10/10\n",
      "157/157 [==============================] - 4s 24ms/step - loss: 0.1020 - acc: 0.9651 - val_loss: 0.3734 - val_acc: 0.8864\n"
     ]
    }
   ],
   "source": [
    "hist = model.fit( x_train, y_train, epochs=10, batch_size=128, validation_split=0.2)"
   ]
  },
  {
   "cell_type": "code",
   "execution_count": 12,
   "id": "474d6c57",
   "metadata": {},
   "outputs": [
    {
     "data": {
      "text/plain": [
       "[<matplotlib.lines.Line2D at 0x7f7d54564910>]"
      ]
     },
     "execution_count": 12,
     "metadata": {},
     "output_type": "execute_result"
    },
    {
     "data": {
      "image/png": "[encoded data removed]",
      "text/plain": [
       "<Figure size 432x288 with 1 Axes>"
      ]
     },
     "metadata": {
      "needs_background": "light"
     },
     "output_type": "display_data"
    }
   ],
   "source": [
    "plt.plot( hist.history['loss'], label='train loss')\n",
    "plt.plot( hist.history['val_loss'], label='validation loss')"
   ]
  },
  {
   "cell_type": "code",
   "execution_count": 13,
   "id": "8a7a5519",
   "metadata": {},
   "outputs": [
    {
     "data": {
      "text/plain": [
       "[<matplotlib.lines.Line2D at 0x7f7d547d6390>]"
      ]
     },
     "execution_count": 13,
     "metadata": {},
     "output_type": "execute_result"
    },
    {
     "data": {
      "image/png": "[encoded data removed]",
      "text/plain": [
       "<Figure size 432x288 with 1 Axes>"
      ]
     },
     "metadata": {
      "needs_background": "light"
     },
     "output_type": "display_data"
    }
   ],
   "source": [
    "plt.plot( hist.history['acc'], label='train accuracy')\n",
    "plt.plot( hist.history['val_acc'], label='validation accuracy')"
   ]
  },
  {
   "cell_type": "markdown",
   "id": "63cbda50",
   "metadata": {},
   "source": [
    "- 전체적으로 더 나은 정확도를 보여주지만, 성능이 획기적으로 좋아졌다곤 할 수 없음\n",
    "- 하이퍼 파라미터에 대한 튜닝을 하지 않아서 그런 것으로 보여짐\n",
    " - 네트워크 구성(레이더 개수, 노드 개수), 최적화 알고리즘(rmsprop), 학습률 튜닝, 규제(L1,L2.Dropout) 등을 설정하지 않음\n",
    "- 리뷰를 전체적으로 길게 분석하는(LSTM) 방법은 감성분류에 도움 x\n",
    "\n",
    "- 즉, 단어들의 순서가 리뷰 긍정 부정을 판단하진 않음\n",
    "- 순서보단 단어의 빈도가 더 영향을 줌"
   ]
  },
  {
   "cell_type": "markdown",
   "id": "c9b06668",
   "metadata": {},
   "source": [
    "## GRU\n",
    "- 이전 정보(hidden state)에도 게이트가 존재하여 영향을 줄지 말지를 판단"
   ]
  },
  {
   "cell_type": "markdown",
   "id": "f0c7bf4c",
   "metadata": {},
   "source": [
    "# 컨브넷을 이용한 텍스트 처리\n",
    "- CNN 이용\n",
    "- RNN보다 속도가 빠름\n",
    "- conv1D 사용"
   ]
  },
  {
   "cell_type": "code",
   "execution_count": 9,
   "id": "9675cf03",
   "metadata": {},
   "outputs": [],
   "source": [
    "model = tf.keras.models.Sequential()\n",
    "model.add( tf.keras.layers.Embedding( max_features, 128, input_length=maxlen ))\n",
    "model.add( tf.keras.layers.Conv1D(32, 7, activation='relu'))\n",
    "model.add( tf.keras.layers.MaxPool1D(5))\n",
    "model.add( tf.keras.layers.Conv1D(32, 7, activation='relu'))\n",
    "model.add( tf.keras.layers.GlobalMaxPool1D())\n",
    "model.add( tf.keras.layers.Dense(1, activation='sigmoid'))\n",
    "\n",
    "model.compile(\n",
    "  loss='binary_crossentropy',\n",
    "  metrics = ['acc'],\n",
    "  optimizer = tf.keras.optimizers.RMSprop(lr=0.0001)\n",
    ")"
   ]
  },
  {
   "cell_type": "code",
   "execution_count": 10,
   "id": "0ea4ca42",
   "metadata": {
    "scrolled": true
   },
   "outputs": [
    {
     "name": "stdout",
     "output_type": "stream",
     "text": [
      "Epoch 1/10\n",
      "157/157 [==============================] - 7s 37ms/step - loss: 0.6930 - acc: 0.5091 - val_loss: 0.6908 - val_acc: 0.5382\n",
      "Epoch 2/10\n",
      "157/157 [==============================] - 6s 36ms/step - loss: 0.6860 - acc: 0.6550 - val_loss: 0.6845 - val_acc: 0.6568\n",
      "Epoch 3/10\n",
      "157/157 [==============================] - 6s 36ms/step - loss: 0.6740 - acc: 0.7585 - val_loss: 0.6579 - val_acc: 0.7198\n",
      "Epoch 4/10\n",
      "157/157 [==============================] - 6s 36ms/step - loss: 0.6347 - acc: 0.7866 - val_loss: 0.5710 - val_acc: 0.8020\n",
      "Epoch 5/10\n",
      "157/157 [==============================] - 6s 36ms/step - loss: 0.5271 - acc: 0.8255 - val_loss: 0.4479 - val_acc: 0.8246\n",
      "Epoch 6/10\n",
      "157/157 [==============================] - 6s 36ms/step - loss: 0.4012 - acc: 0.8562 - val_loss: 0.3707 - val_acc: 0.8436\n",
      "Epoch 7/10\n",
      "157/157 [==============================] - 5s 32ms/step - loss: 0.3234 - acc: 0.8738 - val_loss: 0.3345 - val_acc: 0.8574\n",
      "Epoch 8/10\n",
      "157/157 [==============================] - 5s 29ms/step - loss: 0.2778 - acc: 0.8926 - val_loss: 0.3192 - val_acc: 0.8640\n",
      "Epoch 9/10\n",
      "157/157 [==============================] - 5s 29ms/step - loss: 0.2489 - acc: 0.9057 - val_loss: 0.3118 - val_acc: 0.8680\n",
      "Epoch 10/10\n",
      "157/157 [==============================] - 5s 29ms/step - loss: 0.2263 - acc: 0.9152 - val_loss: 0.3069 - val_acc: 0.8696\n"
     ]
    }
   ],
   "source": [
    "hist = model.fit( x_train, y_train, epochs=10, batch_size=128, validation_split=0.2)"
   ]
  },
  {
   "cell_type": "code",
   "execution_count": 11,
   "id": "c9bd2400",
   "metadata": {},
   "outputs": [
    {
     "data": {
      "text/plain": [
       "[<matplotlib.lines.Line2D at 0x7f50f87e7890>]"
      ]
     },
     "execution_count": 11,
     "metadata": {},
     "output_type": "execute_result"
    },
    {
     "data": {
      "image/png": "[encoded data removed]",
      "text/plain": [
       "<Figure size 432x288 with 1 Axes>"
      ]
     },
     "metadata": {
      "needs_background": "light"
     },
     "output_type": "display_data"
    }
   ],
   "source": [
    "plt.plot( hist.history['loss'], label='train loss')\n",
    "plt.plot( hist.history['val_loss'], label='validation loss')"
   ]
  },
  {
   "cell_type": "code",
   "execution_count": 12,
   "id": "18f0b963",
   "metadata": {
    "scrolled": true
   },
   "outputs": [
    {
     "data": {
      "text/plain": [
       "[<matplotlib.lines.Line2D at 0x7f50f874ea10>]"
      ]
     },
     "execution_count": 12,
     "metadata": {},
     "output_type": "execute_result"
    },
    {
     "data": {
      "image/png": "[encoded data removed]",
      "text/plain": [
       "<Figure size 432x288 with 1 Axes>"
      ]
     },
     "metadata": {
      "needs_background": "light"
     },
     "output_type": "display_data"
    }
   ],
   "source": [
    "plt.plot( hist.history['acc'], label='train accuracy')\n",
    "plt.plot( hist.history['val_acc'], label='validation accuracy')"
   ]
  },
  {
   "cell_type": "markdown",
   "id": "220c66c4",
   "metadata": {},
   "source": [
    "- CNN이 더 뛰어난 성능, 빠른 속도를 보여줌"
   ]
  },
  {
   "cell_type": "code",
   "execution_count": null,
   "id": "4579999e",
   "metadata": {},
   "outputs": [],
   "source": []
  }
 ],
 "metadata": {
  "kernelspec": {
   "display_name": "Python 3 (ipykernel)",
   "language": "python",
   "name": "python3"
  },
  "language_info": {
   "codemirror_mode": {
    "name": "ipython",
    "version": 3
   },
   "file_extension": ".py",
   "mimetype": "text/x-python",
   "name": "python",
   "nbconvert_exporter": "python",
   "pygments_lexer": "ipython3",
   "version": "3.7.11"
  }
 },
 "nbformat": 4,
 "nbformat_minor": 5
}
